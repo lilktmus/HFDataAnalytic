{
  "cells": [
    {
      "cell_type": "code",
      "execution_count": null,
      "metadata": {
        "id": "6Ira0ehTPyt7"
      },
      "outputs": [],
      "source": [
        "# Prompt for user input #\n",
        "game_input = input(\"Please enter your choice: rock, paper, or scissor \").lower()\n",
        "print(\"You chose \" + game_input + \",\")\n",
        "\n",
        "# Set the admin's choice #\n",
        "admin_input = 'rock'\n",
        "\n",
        "# Play the game #\n",
        "while True:\n",
        "    # Check for invalid input #\n",
        "    if game_input not in (\"rock\", \"paper\", \"scissor\"):\n",
        "        print('Please input a valid choice.')\n",
        "        game_input = input(\"Please enter your choice: rock, paper, or scissor \")\n",
        "        continue\n",
        "\n",
        "    # Compare choices\n",
        "    if game_input == admin_input:\n",
        "        print('Good try, we tied.')\n",
        "    elif game_input == 'paper':\n",
        "        print('Congratulation, You win!')\n",
        "    else:\n",
        "        print('Sorry, you lose.')\n",
        "\n",
        "    # Ask if the user wants to play again #\n",
        "    play_again = input(\"Play again? Enter Y or N: \")\n",
        "    if play_again.upper() == 'N':\n",
        "      break\n",
        "\n",
        "    # Get user input for next round\n",
        "    game_input = input(\"Please enter your choice: rock, paper, or scissor \")\n",
        "\n",
        "#Quit game#\n",
        "print(\"Thanks for playing!\")"
      ]
    }
  ],
  "metadata": {
    "colab": {
      "provenance": []
    },
    "kernelspec": {
      "display_name": "Python 3",
      "name": "python3"
    },
    "language_info": {
      "name": "python"
    }
  },
  "nbformat": 4,
  "nbformat_minor": 0
}